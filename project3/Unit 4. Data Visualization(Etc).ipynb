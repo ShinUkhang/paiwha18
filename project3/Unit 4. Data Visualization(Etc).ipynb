{
 "cells": [
  {
   "cell_type": "markdown",
   "metadata": {},
   "source": [
    "## 2. 막대그래프 그리기 (bar chart)"
   ]
  },
  {
   "cell_type": "markdown",
   "metadata": {},
   "source": [
    "### 1) 막대 그래프 : bar()"
   ]
  },
  {
   "cell_type": "code",
   "execution_count": null,
   "metadata": {},
   "outputs": [],
   "source": [
    "import matplotlib.pyplot as plt\n",
    "\n",
    "plt.bar([1,2,3,4],[10,20,30,40]) # 값을 바꿔보세요!\n",
    "plt.show()"
   ]
  },
  {
   "cell_type": "markdown",
   "metadata": {},
   "source": [
    "### 2) 막대의 폭 지정 : width"
   ]
  },
  {
   "cell_type": "code",
   "execution_count": null,
   "metadata": {},
   "outputs": [],
   "source": [
    "burger = [6, 10, 8]\n",
    "\n",
    "plt.bar(range(3), burger, width = 0.4)\n",
    "plt.show()"
   ]
  },
  {
   "cell_type": "markdown",
   "metadata": {},
   "source": [
    "### 3) 틱 설정 : 축 상의 위치 표시 지점, xticks(), yticks()"
   ]
  },
  {
   "cell_type": "code",
   "execution_count": null,
   "metadata": {},
   "outputs": [],
   "source": [
    "brand = ['A-Burger','C-Burger','G-Burger']\n",
    "burger = [6, 10, 8]\n",
    "\n",
    "plt.bar(range(3), burger, width = 0.4)\n",
    "plt.xticks(range(3), brand) \n",
    "plt.yticks([6, 8, 10])\n",
    "plt.show()"
   ]
  },
  {
   "cell_type": "markdown",
   "metadata": {},
   "source": [
    "### 4) 그리드 설정 : grid()"
   ]
  },
  {
   "cell_type": "code",
   "execution_count": null,
   "metadata": {},
   "outputs": [],
   "source": [
    "brand = ['A-Burger','C-Burger','G-Burger']\n",
    "burger = [6, 10, 8]\n",
    "\n",
    "plt.bar(range(3), burger, width = 0.4)\n",
    "plt.xticks(range(3), brand) \n",
    "plt.yticks([6, 8, 10])\n",
    "plt.grid(True)\n",
    "plt.show()"
   ]
  },
  {
   "cell_type": "markdown",
   "metadata": {},
   "source": [
    "### 5) 그림 범위 지정 : xlim, ylim"
   ]
  },
  {
   "cell_type": "code",
   "execution_count": null,
   "metadata": {},
   "outputs": [],
   "source": [
    "import matplotlib.pyplot as plt\n",
    "\n",
    "plt.bar([1,2,3,4],[10,20,30,40]) # 값을 바꿔보세요!\n",
    "plt.xlim(0,5)\n",
    "plt.ylim(-2,50)\n",
    "plt.show()"
   ]
  },
  {
   "cell_type": "markdown",
   "metadata": {},
   "source": [
    "### 6) 범례 설정"
   ]
  },
  {
   "cell_type": "code",
   "execution_count": null,
   "metadata": {},
   "outputs": [],
   "source": [
    "plt.rc('font', family='Malgun Gothic') \n",
    "\n",
    "brand = ['A-Brand','C-Brand','G-Brand']\n",
    "burger = [6, 10, 8]\n",
    "pizza = [14, 20, 19]\n",
    "\n",
    "plt.bar(range(3), burger, width = 0.4, label='햄버거가격')\n",
    "plt.bar([0.5,1.5,2.5], pizza, width = 0.4, label='피자가격')\n",
    "plt.legend()\n",
    "plt.xticks([0.25,1.25,2.25], brand)\n",
    "\n",
    "plt.show()"
   ]
  },
  {
   "cell_type": "markdown",
   "metadata": {},
   "source": [
    "### 7) 수평 막대 그래프 : barh()"
   ]
  },
  {
   "cell_type": "code",
   "execution_count": null,
   "metadata": {},
   "outputs": [],
   "source": [
    "brand = ['A-Burger','C-Burger','G-Burger']\n",
    "burger = [6, 10, 8]\n",
    "\n",
    "plt.barh(range(3), burger, height = 0.4)\n",
    "plt.yticks(range(3), brand)\n",
    "plt.show()"
   ]
  },
  {
   "cell_type": "markdown",
   "metadata": {},
   "source": [
    "## 3. 히스토그램 그리기 (histogram)"
   ]
  },
  {
   "cell_type": "markdown",
   "metadata": {},
   "source": [
    "- hist() : 히스토그램 그리기, 데이터 집계 결과를 반환한다.\n",
    "- bins 인수로 데이터를 집계할 구간 정보를 받는다."
   ]
  },
  {
   "cell_type": "code",
   "execution_count": null,
   "metadata": {},
   "outputs": [],
   "source": [
    "import matplotlib.pyplot as plt\n",
    "\n",
    "plt.hist([1,1,2,4,5,7,8,9], bins = 9)\n",
    "plt.show()"
   ]
  },
  {
   "cell_type": "code",
   "execution_count": null,
   "metadata": {},
   "outputs": [],
   "source": [
    "plt.hist([1,1,2,4,5,7,8,9], bins = 3)\n",
    "plt.xticks([2,5,8],['1~3','4~6','7~9'])\n",
    "plt.show()"
   ]
  },
  {
   "cell_type": "code",
   "execution_count": null,
   "metadata": {},
   "outputs": [],
   "source": [
    "import random\n",
    "result = []\n",
    "\n",
    "for i in range(100):\n",
    "    result.append(random.randint(1,6))\n",
    "    \n",
    "plt.title('주사위 시뮬레이션 결과(100번)')\n",
    "plt.hist(result, bins = 6, color='g')\n",
    "plt.show()"
   ]
  },
  {
   "cell_type": "code",
   "execution_count": null,
   "metadata": {},
   "outputs": [],
   "source": [
    "result = []\n",
    "\n",
    "for i in range(1000000):\n",
    "    result.append(random.randint(1,6))\n",
    "    \n",
    "plt.title('주사위 시뮬레이션 결과(1,000,000번)')\n",
    "plt.hist(result, bins = 6, color='y')\n",
    "plt.show()"
   ]
  },
  {
   "cell_type": "markdown",
   "metadata": {},
   "source": [
    "## 4. 상자 수염 그림 (boxplot)"
   ]
  },
  {
   "cell_type": "code",
   "execution_count": null,
   "metadata": {},
   "outputs": [],
   "source": [
    "import matplotlib.pyplot as plt\n",
    "import random\n",
    "\n",
    "x = []\n",
    "y = []\n",
    "z = []\n",
    "\n",
    "for i in range(100):\n",
    "    x.append(random.randint(1,100))\n",
    "    y.append(random.randint(1,100))\n",
    "    z.append(random.randint(1,100))\n",
    "    \n",
    "plt.figure(dpi=300)\n",
    "plt.title('평가 결과 분석')\n",
    "plt.boxplot([x,y,z],labels = ['1반','2반','3반'])\n",
    "plt.show()"
   ]
  },
  {
   "cell_type": "markdown",
   "metadata": {},
   "source": [
    "## 5. 산포도 그리기 (scatter)"
   ]
  },
  {
   "cell_type": "code",
   "execution_count": null,
   "metadata": {},
   "outputs": [],
   "source": [
    "import matplotlib.pyplot as plt\n",
    "\n",
    "plt.scatter([1,2,3,2],[2,3,3,1])\n",
    "plt.show()"
   ]
  },
  {
   "cell_type": "code",
   "execution_count": null,
   "metadata": {},
   "outputs": [],
   "source": [
    "import matplotlib.pyplot as plt\n",
    "import random\n",
    "x = []\n",
    "y = []\n",
    "\n",
    "plt.title('랜덤 좌표')\n",
    "\n",
    "for i in range(100):\n",
    "    x.append(random.randint(1,10000))\n",
    "    y.append(random.randint(1,10000))\n",
    "    \n",
    "plt.scatter(x, y)\n",
    "plt.show()"
   ]
  },
  {
   "cell_type": "markdown",
   "metadata": {},
   "source": [
    " 점의 크기 모양 변경\n",
    " - s='숫자' : 점의 크기 \n",
    " - c='색상' : 점의 색깔 \n",
    " - edgecolor='색상 : 점의 테두리 색상 \n",
    " - alpha='숫자' : 점의 투명도"
   ]
  },
  {
   "cell_type": "code",
   "execution_count": null,
   "metadata": {},
   "outputs": [],
   "source": [
    "import matplotlib.pyplot as plt\n",
    "import random\n",
    "x = []\n",
    "y = []\n",
    "z = []\n",
    "\n",
    "plt.title('랜덤 좌표, 랜덤 사이즈')\n",
    "\n",
    "for i in range(100):\n",
    "    x.append(random.randint(1,10000))\n",
    "    y.append(random.randint(1,10000))\n",
    "    z.append(random.randint(1,1000))\n",
    "    \n",
    "plt.axis([-1000, 11000, -1000, 11000])\n",
    "plt.scatter(x, y, s = z, c = ['r','g','m','c'], alpha = 0.5)\n",
    "plt.show()"
   ]
  },
  {
   "cell_type": "markdown",
   "metadata": {},
   "source": [
    "## 6. 원 그래프 그리기 (pie)"
   ]
  },
  {
   "cell_type": "code",
   "execution_count": null,
   "metadata": {},
   "outputs": [],
   "source": [
    "import matplotlib.pyplot as plt\n",
    "\n",
    "size = [15, 20, 25, 40]\n",
    "\n",
    "plt.pie(size)\n",
    "plt.show()"
   ]
  },
  {
   "cell_type": "code",
   "execution_count": null,
   "metadata": {},
   "outputs": [],
   "source": [
    "import matplotlib.pyplot as plt\n",
    "\n",
    "size = [13, 2, 14, 7]\n",
    "\n",
    "plt.pie(size)\n",
    "plt.axis('equal')\n",
    "plt.show()"
   ]
  },
  {
   "cell_type": "markdown",
   "metadata": {},
   "source": [
    "파이차트 그리기\n",
    "- size : 파이 차트를 구성할 데이터\n",
    "- explode : 파이 조각이 돌출되는 크기. 0이면 돌출되지 않음\n",
    "- labels : 파이 조각의 라벨\n",
    "- colors : 파이 색깔\n",
    "- autopct : 파이 조각의 전체 대비 백분율\n",
    "- startangle : 그려지는 파이 조각 시작 위치. 90이면 12시 방향임. 파이 조각은 이 각도 기준을 반시계 방향으로 그려짐\n",
    "- shadow : 파이 차트의 그림자 효과 유무"
   ]
  },
  {
   "cell_type": "code",
   "execution_count": null,
   "metadata": {},
   "outputs": [],
   "source": [
    "import matplotlib.pyplot as plt\n",
    "plt.figure(figsize=(6,4), dpi=300)\n",
    "\n",
    "size = [231, 132, 94, 341]\n",
    "explode = (0, 0, 0, 0.1)\n",
    "labels = '기린', '고양이', '토끼', '강아지'\n",
    "colors = ['yellowgreen', 'gold', 'lightskyblue', 'lightcoral']\n",
    "\n",
    "plt.title('좋아하는 동물 투표 결과')\n",
    "plt.pie(size, explode=explode, labels=labels, colors=colors, autopct='%1.1f%%', startangle=90)\n",
    "\n",
    "plt.axis('equal')\n",
    "plt.show()"
   ]
  },
  {
   "cell_type": "code",
   "execution_count": null,
   "metadata": {
    "collapsed": true
   },
   "outputs": [],
   "source": []
  }
 ],
 "metadata": {
  "kernelspec": {
   "display_name": "Python 3",
   "language": "python",
   "name": "python3"
  },
  "language_info": {
   "codemirror_mode": {
    "name": "ipython",
    "version": 3
   },
   "file_extension": ".py",
   "mimetype": "text/x-python",
   "name": "python",
   "nbconvert_exporter": "python",
   "pygments_lexer": "ipython3",
   "version": "3.6.3"
  }
 },
 "nbformat": 4,
 "nbformat_minor": 2
}
