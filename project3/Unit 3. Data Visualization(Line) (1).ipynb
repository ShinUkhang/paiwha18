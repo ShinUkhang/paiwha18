{
 "cells": [
  {
   "cell_type": "markdown",
   "metadata": {},
   "source": [
    "# 데이터 시각화 하기"
   ]
  },
  {
   "cell_type": "markdown",
   "metadata": {},
   "source": [
    "- matplotlib - python에서 그리프를 그리기 위한 메인 라이브러리\n",
    "- matplotlib.pyplot - MATLAB 스타일의 그래프를 그리는 서브 라이브러리\n",
    "- import matplotlib.pyplot as plt - as는 별칭"
   ]
  },
  {
   "cell_type": "markdown",
   "metadata": {},
   "source": [
    "참고자료\n",
    "- https://matplotlib.org/\n",
    "- https://datascienceschool.net/view-notebook/d0b1637803754bb083b5722c9f2209d0/\n",
    "- https://wikidocs.net/2875\n",
    "- https://www.scipy-lectures.org"
   ]
  },
  {
   "cell_type": "markdown",
   "metadata": {},
   "source": [
    "Matplotlib Gallery Click\n",
    "- https://matplotlib.org/gallery.html"
   ]
  },
  {
   "cell_type": "markdown",
   "metadata": {},
   "source": [
    "## Matplotlib 그림의 구조"
   ]
  },
  {
   "cell_type": "markdown",
   "metadata": {},
   "source": [
    "Matplotlib가 그리는 그림은 Figure 객체, Axes 객체, Axis 객체 등으로 구성된다. Figure 객체는 한 개 이상의  Axes 객체를 포함하고 Axes 객체는 다시 두 개 이상의 Axis 객체를 포함한다.  다음 그림은 이 구조를 설명하고 있다.\n",
    "\n",
    "<img src=\"https://datascienceschool.net/upfiles/4e20efe6352e4f4fac65c26cb660f522.png\" style=\"width: 50%\">\n",
    "\n",
    "Figure는 그림이 그려지는 캔버스나 종이를 뜻하고 Axes는 하나의 플롯, 그리고 Axis는 가로축이나 세로축 등의 축을 뜻한다. Axes와 Axis의 철자에 주의한다."
   ]
  },
  {
   "cell_type": "markdown",
   "metadata": {},
   "source": [
    "## 1. 선 그래프 그리기 (line plot)"
   ]
  },
  {
   "cell_type": "markdown",
   "metadata": {},
   "source": [
    "### plot함수 : 값을 서로 연결해서 라인 형태의 그래프를 그리는 함수"
   ]
  },
  {
   "cell_type": "code",
   "execution_count": null,
   "metadata": {},
   "outputs": [],
   "source": [
    "# 1. 그래프 라이브러리 임포트\n",
    "import matplotlib.pyplot as plt\n",
    "\n",
    "# 2. 데이터 리스트를 plot 함수에 넣기\n",
    "data = [1,2,3,4] # y축 값을 리스트로 저장\n",
    "plt.plot(data) # data 리스트로 그래프 만들기\n",
    "               # plot 함수는 값을 서로 연결해서 라인 형태의 그래프를 그리는 함수\n",
    "\n",
    "# 3. 그래프 보여주기\n",
    "plt.show() "
   ]
  },
  {
   "cell_type": "code",
   "execution_count": null,
   "metadata": {},
   "outputs": [],
   "source": [
    "import matplotlib.pyplot as plt\n",
    "\n",
    "ydata = [1,2,3,4] # y축 값을 리스트로 저장\n",
    "xdata = [10,40,20,30] # x축 값을 리스트로 저장\n",
    "plt.plot(ydata, xdata) # data 리스트로 그래프 만들기\n",
    "plt.show() # 그래프 보여주기"
   ]
  },
  {
   "cell_type": "code",
   "execution_count": null,
   "metadata": {},
   "outputs": [],
   "source": [
    "import matplotlib.pyplot as plt\n",
    "\n",
    "# (1,10), (10, 40), (4,30), (6,20)을 순서대로 연결한 그래프 만들기\n",
    "plt.plot([1,10,4,6], [10,40,30,20]) \n",
    "plt.show() "
   ]
  },
  {
   "cell_type": "code",
   "execution_count": null,
   "metadata": {},
   "outputs": [],
   "source": [
    "import matplotlib.pyplot as plt\n",
    "x = range(0, 100)\n",
    "y = [v*v for v in x]\n",
    "plt.plot(x, y)\n",
    "plt.show()"
   ]
  },
  {
   "cell_type": "markdown",
   "metadata": {},
   "source": [
    "## 2. 그래프 꾸미기"
   ]
  },
  {
   "cell_type": "markdown",
   "metadata": {},
   "source": [
    "### 1) 스타일 지정하기"
   ]
  },
  {
   "cell_type": "markdown",
   "metadata": {},
   "source": [
    "- 색깔 : b / g / r / c / m / y / k / w\n",
    "- 마커(데이터 위치 나타내는 기호) : . / , / o / v / ^ / s / + / * \n",
    "- 선 스타일 : - / -- / -. / :"
   ]
  },
  {
   "cell_type": "code",
   "execution_count": null,
   "metadata": {},
   "outputs": [],
   "source": [
    "import matplotlib.pyplot as plt\n",
    "plt.plot([10,20,30,40], [1,4,9,16], 'rs--')\n",
    "plt.show()"
   ]
  },
  {
   "cell_type": "markdown",
   "metadata": {},
   "source": [
    "### 2) 제목 표현하기 - title 함수"
   ]
  },
  {
   "cell_type": "code",
   "execution_count": null,
   "metadata": {},
   "outputs": [],
   "source": [
    "import matplotlib.pyplot as plt\n",
    "\n",
    "plt.plot([1,2,3,4])\n",
    "plt.title('title')\n",
    "plt.show()"
   ]
  },
  {
   "cell_type": "markdown",
   "metadata": {},
   "source": [
    "### 3) 한글 표현하기"
   ]
  },
  {
   "cell_type": "code",
   "execution_count": null,
   "metadata": {},
   "outputs": [],
   "source": [
    "import matplotlib.pyplot as plt\n",
    "\n",
    "#제목이 한글일 때 폰트 지정하기\n",
    "plt.rc('font', family='Malgun Gothic') \n",
    "\n",
    "plt.plot([1,2,3,4])\n",
    "plt.title('제목')\n",
    "plt.show()"
   ]
  },
  {
   "cell_type": "markdown",
   "metadata": {},
   "source": [
    "### 4) 여러개의 선 그리기"
   ]
  },
  {
   "cell_type": "markdown",
   "metadata": {},
   "source": [
    "- 하나의 `plot` 명령이 아니라 복수의 `plot` 명령을 하나의 그림에 겹쳐서 그릴 수도 있다. \n",
    "- Matplotlib 2.0부터는 모든 플롯 명령에 `hold(True)`가 자동 적용된다.\n",
    "- plt.hold(True) : 기존 그림 위에 겹쳐서 그린다. \n",
    "- plt.hold(True) : 겹쳐서 그리기를 종료한다."
   ]
  },
  {
   "cell_type": "code",
   "execution_count": null,
   "metadata": {
    "scrolled": true
   },
   "outputs": [],
   "source": [
    "import matplotlib.pyplot as plt\n",
    "\n",
    "plt.plot([1,2,3,4])\n",
    "plt.plot([4,3,2,1])\n",
    "\n",
    "plt.show()"
   ]
  },
  {
   "cell_type": "code",
   "execution_count": null,
   "metadata": {},
   "outputs": [],
   "source": [
    "plt.plot([1,2,3,4], [1,4,2,5], 'r', [0,2,5,6], [1,2,3,6], 'g')  # 값을 바꿔보세요!\n",
    "plt.show()"
   ]
  },
  {
   "cell_type": "markdown",
   "metadata": {},
   "source": [
    "### 5) 범례 표시하기"
   ]
  },
  {
   "cell_type": "markdown",
   "metadata": {},
   "source": [
    "- plt.plot(label = 레이블) : 레이블 설정\n",
    "- plt.legend() : 범례를 표시"
   ]
  },
  {
   "cell_type": "code",
   "execution_count": null,
   "metadata": {},
   "outputs": [],
   "source": [
    "import matplotlib.pyplot as plt\n",
    "\n",
    "#한 화면에 그래프 두개 그리기\n",
    "plt.plot([1,2,3,4], label = 'type A') #레이블 설정\n",
    "plt.plot([4,3,2,1], label = 'type B')\n",
    "plt.legend() #범례를 그래프에 표시함\n",
    "\n",
    "plt.show()"
   ]
  },
  {
   "cell_type": "markdown",
   "metadata": {},
   "source": [
    "### 6) 범례 위치 정하기"
   ]
  },
  {
   "cell_type": "markdown",
   "metadata": {},
   "source": [
    "- Location String : best / upper right / upper left / lower left / lower right / right / center left / center right / lower center / upper center / center"
   ]
  },
  {
   "cell_type": "code",
   "execution_count": null,
   "metadata": {},
   "outputs": [],
   "source": [
    "import matplotlib.pyplot as plt\n",
    "\n",
    "#한 화면에 그래프 두개 그리기\n",
    "plt.plot([1,2,3,4], label = 'type A') #레이블 설정\n",
    "plt.plot([4,3,2,1], label = 'type B')\n",
    "plt.legend(loc='upper right') #범례를 그래프에 표시함\n",
    "\n",
    "plt.show()"
   ]
  },
  {
   "cell_type": "markdown",
   "metadata": {},
   "source": [
    "### 7) 파일 저장하기"
   ]
  },
  {
   "cell_type": "markdown",
   "metadata": {},
   "source": [
    "- plt.savefig(파일이름) : 원하는 이름으로 그래프를 저장"
   ]
  },
  {
   "cell_type": "code",
   "execution_count": null,
   "metadata": {},
   "outputs": [],
   "source": [
    "import matplotlib.pyplot as plt\n",
    "\n",
    "#한 화면에 그래프 두개 그리기\n",
    "plt.plot([1,2,3,4], label = 'type A')\n",
    "plt.plot([4,3,2,1], label = 'type B')\n",
    "plt.legend() #범례를 그래프에 표시함\n",
    "\n",
    "plt.savefig('data.png') #원하는 파일 이름으로 그래프 저장"
   ]
  },
  {
   "cell_type": "markdown",
   "metadata": {},
   "source": [
    "### 8) 그래프 크기 설정하기"
   ]
  },
  {
   "cell_type": "markdown",
   "metadata": {},
   "source": [
    "- plt.figure(figsize=(가로,세로), dpi=해상도) : 그래프 크기 및 해상도 조절"
   ]
  },
  {
   "cell_type": "code",
   "execution_count": null,
   "metadata": {},
   "outputs": [],
   "source": [
    "import matplotlib.pyplot as plt\n",
    "plt.figure(figsize = (4,2), dpi = 150) # 그래프 크기 및 해상도 조절\n",
    "\n",
    "plt.rc('font',family='Malgun Gothic') # 한글 폰트설정\n",
    "plt.plot([1, 2, 3, 4], label = 'type A')\n",
    "plt.plot([4, 3, 2, 1], label = 'type B')\n",
    "\n",
    "plt.title('제목') # 제목 넣기\n",
    "\n",
    "plt.xlim(0,3) # x축 값 범위 : 0~3\n",
    "plt.ylim(1,4) # y축 값 범위 : 1~4\n",
    "\n",
    "plt.xticks(range(4),['가','나','다','라']) # x축 내용\n",
    "plt.yticks(range(5)) # y축 내용\n",
    "\n",
    "plt.xlabel('x축') # x축 레이블\n",
    "plt.ylabel('y축') # y축 레이블\n",
    "\n",
    "plt.legend() # 범례\n",
    "plt.savefig('data.png') # 파일 저장\n",
    "\n",
    "plt.show() # 그래프 보여주기"
   ]
  },
  {
   "cell_type": "markdown",
   "metadata": {},
   "source": [
    "### 9) 한 화면에 여러 개의 그래프 그리기"
   ]
  },
  {
   "cell_type": "markdown",
   "metadata": {},
   "source": [
    "- subplot 함수 : 그리려는 그래프 개수만큼 subplot을 만든다 \n",
    "- .subplot(1,2,1)의 첫번째와 두번째 인자는 (행x열)을 의미, 즉 1x2(행x열)의 subplot을 생성 \n",
    "- 세번째 인자 1은 생성된 두 개의 subplot 중 첫 번째 subplot임을 의미 "
   ]
  },
  {
   "cell_type": "code",
   "execution_count": null,
   "metadata": {},
   "outputs": [],
   "source": [
    "plt.subplot(1,2,1) #1행2열 중 첫 번째 subplot\n",
    "plt.plot(range(100,10000), '_')  \n",
    "\n",
    "plt.subplot(1,2,2) #1행2열 중 두 번째 subplot\n",
    "plt.plot(range(100,1,-1), '_')\n",
    "plt.show()"
   ]
  }
 ],
 "metadata": {
  "kernelspec": {
   "display_name": "Python 3",
   "language": "python",
   "name": "python3"
  },
  "language_info": {
   "codemirror_mode": {
    "name": "ipython",
    "version": 3
   },
   "file_extension": ".py",
   "mimetype": "text/x-python",
   "name": "python",
   "nbconvert_exporter": "python",
   "pygments_lexer": "ipython3",
   "version": "3.6.5"
  }
 },
 "nbformat": 4,
 "nbformat_minor": 2
}
