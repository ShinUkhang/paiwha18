{
 "cells": [
  {
   "cell_type": "markdown",
   "metadata": {},
   "source": [
    "# Unit 1. 파이썬 기초"
   ]
  },
  {
   "cell_type": "markdown",
   "metadata": {},
   "source": [
    "## 1. 파이썬 시작하기"
   ]
  },
  {
   "cell_type": "code",
   "execution_count": null,
   "metadata": {},
   "outputs": [],
   "source": [
    "from IPython.display import Image \n",
    "Image(url=\"http://www.bloter.net/wp-content/uploads/2016/09/navercast_python_01logo.png\", width=400, height=100)"
   ]
  },
  {
   "cell_type": "markdown",
   "metadata": {},
   "source": [
    "### 1) 파이썬(Python) 이란?"
   ]
  },
  {
   "cell_type": "markdown",
   "metadata": {},
   "source": [
    "- 1991년 귀도 반 로섬(Guido van Rossum)이 만든 배우기 쉽고 강력한 프로그래밍 언어입니다. \n",
    "- 인터프리터 언어(Interpreter Language) : 코드를 한줄 한줄 읽어가며 명령어를 처리하는 프로그램\n",
    "- 멀티 패러다임 : 절차지향, 객체지향, 함수형 패러다임을 모두 구현 가능\n",
    "- https://www.python.org/~guido/"
   ]
  },
  {
   "cell_type": "markdown",
   "metadata": {},
   "source": [
    "### 2) 파이썬 설치"
   ]
  },
  {
   "cell_type": "markdown",
   "metadata": {},
   "source": [
    "- 파이썬 다운로드 : https://www.python.org/downloads/  (기본 파이썬만 설치함)\n",
    "- 아나콘다 다운로드 : https://www.anaconda.com/download/  (다양한 라이브러리 함께 설치함)\n",
    "- 아나콘다 설치 방법 : https://wikidocs.net/2826   (설치 위치 : C:\\ProgramData\\Anaconda3)"
   ]
  },
  {
   "cell_type": "markdown",
   "metadata": {},
   "source": [
    "### 3) 파이썬 LINK"
   ]
  },
  {
   "cell_type": "markdown",
   "metadata": {},
   "source": [
    "- 파이썬 코딩도장 : https://dojang.io/course/view.php?id=3\n",
    "- 점프 투 파이썬 : https://wikidocs.net/book/1\n",
    "- 쉽게 배우는 파이썬 기초 : http://pythonstudy.xyz/python/basics\n",
    "- 파이썬 라이브러리 : https://docs.python.org/3.7/library/index.html"
   ]
  },
  {
   "cell_type": "markdown",
   "metadata": {},
   "source": [
    "## 2. 파이썬 기본 프로그램"
   ]
  },
  {
   "cell_type": "markdown",
   "metadata": {},
   "source": [
    "### 1) 파이썬으로 하는 계산"
   ]
  },
  {
   "cell_type": "raw",
   "metadata": {},
   "source": [
    "- 산술연산자 : + 덧셈, - 뺄셈, * 곱셈, ** 거듭제곱, / 나눗셈, // 몫, % 나머지"
   ]
  },
  {
   "cell_type": "code",
   "execution_count": null,
   "metadata": {},
   "outputs": [],
   "source": [
    "2*3+4"
   ]
  },
  {
   "cell_type": "code",
   "execution_count": null,
   "metadata": {},
   "outputs": [],
   "source": [
    "\"hi\""
   ]
  },
  {
   "cell_type": "code",
   "execution_count": null,
   "metadata": {},
   "outputs": [],
   "source": [
    "3*3.14"
   ]
  },
  {
   "cell_type": "code",
   "execution_count": null,
   "metadata": {},
   "outputs": [],
   "source": [
    "2*3.14"
   ]
  },
  {
   "cell_type": "code",
   "execution_count": null,
   "metadata": {},
   "outputs": [],
   "source": [
    "5*2+3"
   ]
  },
  {
   "cell_type": "markdown",
   "metadata": {},
   "source": [
    "### 2) 변수 할당"
   ]
  },
  {
   "cell_type": "code",
   "execution_count": null,
   "metadata": {},
   "outputs": [],
   "source": [
    "x=3.14\n",
    "x"
   ]
  },
  {
   "cell_type": "code",
   "execution_count": null,
   "metadata": {},
   "outputs": [],
   "source": [
    "(3*x)+(2*x)"
   ]
  },
  {
   "cell_type": "markdown",
   "metadata": {},
   "source": [
    "### 3) 기본 자료형"
   ]
  },
  {
   "cell_type": "markdown",
   "metadata": {},
   "source": [
    "- int : 정수형 데이터 (예 4, -2, 0)\n",
    "- float : 실수형 데이터, 소숫점을 포함한 숫자 (예 12.34)\n",
    "- bool : 논리형 데이터, 참 거짓 표현 (예 True, False)\n",
    "- str : 문자형 데이터 (예 'hi', \"Paiwha\")"
   ]
  },
  {
   "cell_type": "raw",
   "metadata": {},
   "source": [
    "type() : ()안에 데이터의 자료형이 무엇인지 체크하는 함수"
   ]
  },
  {
   "cell_type": "code",
   "execution_count": null,
   "metadata": {},
   "outputs": [],
   "source": [
    "type(7)"
   ]
  },
  {
   "cell_type": "code",
   "execution_count": null,
   "metadata": {
    "scrolled": true
   },
   "outputs": [],
   "source": [
    "type(3.14)"
   ]
  },
  {
   "cell_type": "code",
   "execution_count": null,
   "metadata": {},
   "outputs": [],
   "source": [
    "type(True)"
   ]
  },
  {
   "cell_type": "code",
   "execution_count": 1,
   "metadata": {},
   "outputs": [
    {
     "data": {
      "text/plain": [
       "str"
      ]
     },
     "execution_count": 1,
     "metadata": {},
     "output_type": "execute_result"
    }
   ],
   "source": [
    "type(\"Paiwha\")"
   ]
  },
  {
   "cell_type": "markdown",
   "metadata": {},
   "source": [
    "### ▷ 문제"
   ]
  },
  {
   "cell_type": "markdown",
   "metadata": {},
   "source": [
    "$x$값에 5를 입력한 후, \n",
    "$x*2+3$  수식을 입력하여 결과값을 확인하시오."
   ]
  },
  {
   "cell_type": "code",
   "execution_count": 2,
   "metadata": {},
   "outputs": [
    {
     "data": {
      "text/plain": [
       "13"
      ]
     },
     "execution_count": 2,
     "metadata": {},
     "output_type": "execute_result"
    }
   ],
   "source": [
    "x=5\n",
    "x*2+3"
   ]
  },
  {
   "cell_type": "markdown",
   "metadata": {},
   "source": [
    "## 3. 입출력"
   ]
  },
  {
   "cell_type": "markdown",
   "metadata": {},
   "source": [
    "### 1) 출력함수"
   ]
  },
  {
   "cell_type": "markdown",
   "metadata": {},
   "source": [
    "- print(출력할 내용) : () 안에 있는 데이터를 출력한다. 출력 후 줄바꿈을 기본으로 한다.\n",
    "- print(a, end='') : 변수 a의 내용을 출력, 줄바꿈을 하지 않음\n",
    "- print(a,b,sep=':') : 변수 a와 b의 내용을 출력, 구분자로 :를 a와 b사이에 넣어서 출력한다."
   ]
  },
  {
   "cell_type": "code",
   "execution_count": 3,
   "metadata": {},
   "outputs": [
    {
     "name": "stdout",
     "output_type": "stream",
     "text": [
      "hello\n",
      "hello\n"
     ]
    }
   ],
   "source": [
    "print(\"hello\") # () 안의 데이터 출력\n",
    "print(\"hello\")"
   ]
  },
  {
   "cell_type": "code",
   "execution_count": 4,
   "metadata": {},
   "outputs": [
    {
     "name": "stdout",
     "output_type": "stream",
     "text": [
      "hi Paiwha\n"
     ]
    }
   ],
   "source": [
    "print(\"hi\",\"Paiwha\") # hi와 Paiwha 내용 한 칸 띄어서 출력"
   ]
  },
  {
   "cell_type": "code",
   "execution_count": 5,
   "metadata": {},
   "outputs": [
    {
     "name": "stdout",
     "output_type": "stream",
     "text": [
      "ab\n"
     ]
    }
   ],
   "source": [
    "print(\"a\"+\"b\") # a와 b 문자를 더해서 출력"
   ]
  },
  {
   "cell_type": "code",
   "execution_count": 6,
   "metadata": {},
   "outputs": [
    {
     "name": "stdout",
     "output_type": "stream",
     "text": [
      "ab,c\n",
      "d\n"
     ]
    }
   ],
   "source": [
    "print(\"a\",end=\"\") # a 출력 후 빈 칸 출력\n",
    "print(\"b\",end=\",\")  # b 출력 후 , 출력\n",
    "print(\"c\")  # c 출력 후 줄바꿈 (end=\"\\n\"이 기본값임)\n",
    "print(\"d\")  # d 출력 후 줄바꿈"
   ]
  },
  {
   "cell_type": "code",
   "execution_count": 13,
   "metadata": {},
   "outputs": [
    {
     "name": "stdout",
     "output_type": "stream",
     "text": [
      "a:b:c\n"
     ]
    }
   ],
   "source": [
    "print(\"a\",\"b\",\"c\",sep=\":\")  # a와 b, c를 :로 구분해서 출력 (sep=\" \"이 기본값임)"
   ]
  },
  {
   "cell_type": "markdown",
   "metadata": {},
   "source": [
    "### 2) 입력함수"
   ]
  },
  {
   "cell_type": "markdown",
   "metadata": {},
   "source": [
    "- input() : 입력된 데이터가 문자(str)로 저장됨\n",
    "- input('메시지') : 사용자에게 무엇을 입력해야 할지 '메시지'를 보여준다.\n",
    "- input().split() : 입력 받은 문자열을 공백을 기준으로 분리하여 저장한다.\n",
    "- map(함수, list) : list의 각 요소를 함수에 의해 수행하고 그 결과를 묶어서 list 객체로 리턴함"
   ]
  },
  {
   "cell_type": "code",
   "execution_count": null,
   "metadata": {},
   "outputs": [],
   "source": [
    "a=input() # 입력된 데이터가 문자(str)로 저장된다.\n",
    "print(a)"
   ]
  },
  {
   "cell_type": "code",
   "execution_count": null,
   "metadata": {},
   "outputs": [],
   "source": [
    "a=input(\"좋아하는 음식을 입력하시오.\") # 사용자에게 무엇을 입력해야 할지 메시지를 보여준다.\n",
    "print(a)"
   ]
  },
  {
   "cell_type": "code",
   "execution_count": null,
   "metadata": {},
   "outputs": [],
   "source": [
    "a=input(\"좋아하는 숫자를 입력하시오.\")\n",
    "b=input(\"좋아하는 숫자를 입력하시오.\")\n",
    "print(a+b)"
   ]
  },
  {
   "cell_type": "code",
   "execution_count": null,
   "metadata": {},
   "outputs": [],
   "source": [
    "# input 함수는 언제나 문자(str)를 반환한다. 숫자를 사용하고 싶을 땐 숫자로 변환해야 한다.\n",
    "a=int(input(\"좋아하는 숫자를 입력하시오.\"))\n",
    "b=int(input(\"좋아하는 숫자를 입력하시오.\"))\n",
    "print(a+b)"
   ]
  },
  {
   "cell_type": "code",
   "execution_count": null,
   "metadata": {},
   "outputs": [],
   "source": [
    "# input().split()을 통해 한번에 여러 데이터를 입력받을 수 있다.\n",
    "a,b = input(\"좋아하는 숫자 두 개를 입력하시오. (예 3 4)\").split()\n",
    "c = int(a)+int(b)\n",
    "print(c)"
   ]
  },
  {
   "cell_type": "code",
   "execution_count": null,
   "metadata": {},
   "outputs": [],
   "source": [
    "a,b = map(int, input(\"좋아하는 숫자 두 개를 입력하시오. (예 3 4)\").split())\n",
    "print(a+b)"
   ]
  },
  {
   "cell_type": "markdown",
   "metadata": {},
   "source": [
    "### ▷ 문제"
   ]
  },
  {
   "cell_type": "markdown",
   "metadata": {},
   "source": [
    "출력값은?"
   ]
  },
  {
   "cell_type": "code",
   "execution_count": null,
   "metadata": {},
   "outputs": [],
   "source": [
    "jumsu=85\n",
    "if (jumsu>90) :\n",
    "    print(\"A\")\n",
    "    if(jumsu>80) :\n",
    "        print(\"B\")"
   ]
  },
  {
   "cell_type": "markdown",
   "metadata": {},
   "source": [
    "### ▷ 문제"
   ]
  },
  {
   "cell_type": "markdown",
   "metadata": {},
   "source": [
    "입력받은 cm를 inch로 변환여 출력하시오. ($inch=cm÷2.54$)"
   ]
  },
  {
   "cell_type": "code",
   "execution_count": null,
   "metadata": {},
   "outputs": [],
   "source": [
    "cm=int(input())\n",
    "inch=cm/2.54\n",
    "print(inch)"
   ]
  },
  {
   "cell_type": "markdown",
   "metadata": {},
   "source": [
    "## 4. 제어문"
   ]
  },
  {
   "cell_type": "markdown",
   "metadata": {},
   "source": [
    "### 1) 제어문이란?"
   ]
  },
  {
   "cell_type": "markdown",
   "metadata": {},
   "source": [
    "- 제어문 : 프로그램의 수행 순서를 제어하는 문장으로, 제어문이 없으면 순차적으로 수행한다.\n",
    "- 조건문 : 조건식의 결과에 따라 문장을 선택적으로 실행, if문이 있다.\n",
    "- 반복문 : 조건식의 결과에 따라 일정 문장을 반복하여 실행, while문과 for문이 있다.\n",
    "- 분기문 : 제어의 흐름을 변경, continue, break, return이 있다."
   ]
  },
  {
   "cell_type": "markdown",
   "metadata": {},
   "source": [
    "### 2) 들여쓰기"
   ]
  },
  {
   "cell_type": "markdown",
   "metadata": {},
   "source": [
    "- 파이썬은 들여쓰기를 기준으로 코드 블록을 구성 (java c 등 대부분의 언어는 { }로 블록 구현함)\n",
    "- 코드 블록은 특정한 동작을 위해서 코드가 모여 있는 상태\n",
    "- 같은 블록은 들여쓰기 칸 수가 같아야 하고, 공백과 탭 문자를 섞어 쓰면 안됨\n",
    "- 파이썬 코딩 스타일 가이드(PEP 8)에서는 공백 4칸으로 규정\n",
    "- indentation 조절 방법 : 콜론(:)은 증가, 엔터키는 유지, 백스페이스키는 감소"
   ]
  },
  {
   "cell_type": "markdown",
   "metadata": {},
   "source": [
    "### 3) 조건식"
   ]
  },
  {
   "cell_type": "markdown",
   "metadata": {},
   "source": [
    "- 비교연산자 : < 작다, <= 작거나 같다, == 같다, >= 크거나 같다, > 크다, !=(or<>) 다르다\n",
    "- 논리연산자 : and (모두 True면 True), or (하나라도 True면 True), not True면 False로 변경 False면 True로 변경"
   ]
  },
  {
   "cell_type": "code",
   "execution_count": null,
   "metadata": {},
   "outputs": [],
   "source": [
    "(1>3) and (4<5)"
   ]
  },
  {
   "cell_type": "code",
   "execution_count": null,
   "metadata": {},
   "outputs": [],
   "source": [
    "(1>3) or (4<5)"
   ]
  },
  {
   "cell_type": "code",
   "execution_count": null,
   "metadata": {},
   "outputs": [],
   "source": [
    "not (1<3)"
   ]
  },
  {
   "cell_type": "markdown",
   "metadata": {
    "collapsed": true
   },
   "source": [
    "### 4) if문"
   ]
  },
  {
   "cell_type": "raw",
   "metadata": {},
   "source": [
    "if 조건식A: #조건식A가 True일 때 코드1를 실행함\n",
    "    코드1  \n",
    "elif 조건식B: #조건식A가 False이고 조건식B가 True일 때 코드2를 실행함\n",
    "    코드2\n",
    "else : #조건식A와 조건식B가 False일때 코드3를 실행함\n",
    "    코드3"
   ]
  },
  {
   "cell_type": "code",
   "execution_count": null,
   "metadata": {},
   "outputs": [],
   "source": [
    "x=1225\n",
    "if (x==1225) :\n",
    "    print(\"X-mas\")"
   ]
  },
  {
   "cell_type": "code",
   "execution_count": null,
   "metadata": {},
   "outputs": [],
   "source": [
    "a=3\n",
    "b=5\n",
    "if (a>b) :\n",
    "    print(\"a\")\n",
    "else :\n",
    "    print(\"b\")"
   ]
  },
  {
   "cell_type": "code",
   "execution_count": null,
   "metadata": {},
   "outputs": [],
   "source": [
    "x=85\n",
    "if (x<0) :\n",
    "    print(\"음수\")\n",
    "elif (x>0) :\n",
    "    print(\"양수\")\n",
    "else :\n",
    "    print(\"0\")"
   ]
  },
  {
   "cell_type": "markdown",
   "metadata": {},
   "source": [
    "### ▷ 문제"
   ]
  },
  {
   "cell_type": "markdown",
   "metadata": {},
   "source": [
    "정수 한 개를 입력 받은 후, 짝수면 \"짝수\"라고 출력하고, 홀수면 \"홀수\"라고 출력하시오."
   ]
  },
  {
   "cell_type": "code",
   "execution_count": null,
   "metadata": {},
   "outputs": [],
   "source": [
    "x = int(input(\"정수를 입력하시오 : \"))\n",
    "if (x%2==0) :  \n",
    "    print(\"짝수\")\n",
    "else :\n",
    "    print(\"홀수\")"
   ]
  },
  {
   "cell_type": "markdown",
   "metadata": {},
   "source": [
    "### 5) while문"
   ]
  },
  {
   "cell_type": "raw",
   "metadata": {},
   "source": [
    "while"
   ]
  },
  {
   "cell_type": "code",
   "execution_count": null,
   "metadata": {},
   "outputs": [],
   "source": [
    "reply='y'\n",
    "while reply=='y' :\n",
    "    print(\"reply...\")\n",
    "    reply = input ('reply?(y/n): ')"
   ]
  },
  {
   "cell_type": "markdown",
   "metadata": {},
   "source": [
    "### 6) for문"
   ]
  },
  {
   "cell_type": "markdown",
   "metadata": {},
   "source": [
    "- range(stop) : 0부터 stop-1까지 범위, 예 range(10)은 0~9\n",
    "- range(start, stop) : start부터 stop-1까지 범위, 예 range(3,7)은 3,4,5,6\n",
    "- range(start, stop, step) : start부터 stop-1까지 step만큼 증가하는 범위, 예 range(2,11,2)는 2,4,6,8,10"
   ]
  },
  {
   "cell_type": "code",
   "execution_count": 1,
   "metadata": {},
   "outputs": [
    {
     "name": "stdout",
     "output_type": "stream",
     "text": [
      "0 1 2 3 4 5 6 7 8 9 "
     ]
    }
   ],
   "source": [
    "for i in range(10) :\n",
    "    print(i, end=\" \")"
   ]
  },
  {
   "cell_type": "code",
   "execution_count": 2,
   "metadata": {},
   "outputs": [
    {
     "name": "stdout",
     "output_type": "stream",
     "text": [
      "3 4 5 6 "
     ]
    }
   ],
   "source": [
    "for i in range(3,7) :\n",
    "    print(i, end=\" \")"
   ]
  },
  {
   "cell_type": "code",
   "execution_count": 3,
   "metadata": {},
   "outputs": [
    {
     "name": "stdout",
     "output_type": "stream",
     "text": [
      "2 4 6 8 10 "
     ]
    }
   ],
   "source": [
    "for i in range(2,11,2) :\n",
    "    print(i, end=\" \")"
   ]
  },
  {
   "cell_type": "markdown",
   "metadata": {},
   "source": [
    "### ▷ 문제"
   ]
  },
  {
   "cell_type": "markdown",
   "metadata": {},
   "source": [
    "1부터 10까지 더한 sum값을 출력하시오."
   ]
  },
  {
   "cell_type": "code",
   "execution_count": null,
   "metadata": {},
   "outputs": [],
   "source": [
    "sum=0\n",
    "for i in range(1,11) : # 0부터 10까지 범위로 i값이 변함\n",
    "    sum += i\n",
    "print(sum)"
   ]
  },
  {
   "cell_type": "markdown",
   "metadata": {},
   "source": [
    "## 5. 리스트"
   ]
  },
  {
   "cell_type": "markdown",
   "metadata": {},
   "source": [
    "참고 자료 : https://wikidocs.net/14#_3"
   ]
  },
  {
   "cell_type": "markdown",
   "metadata": {},
   "source": [
    "### 1) 집합 자료형"
   ]
  },
  {
   "cell_type": "markdown",
   "metadata": {},
   "source": [
    "- list [1,5,9] : 동일한 목적을 갖는 유사한 항목들의 묶음, 서로 다른 형인 경우도 허용함\n",
    "- tuple (1,5,9) : 원소를 변경할 수 없는 리스트\n",
    "- str byte : 문자가 모인 문자열\n",
    "- dict {\"key\" : \"value\"}, 사전과 비슷한 형식의 자료형, 원소는 한 쌍의 key:value로 표현, 예 dict{a=3, b=4, k=\"v\"}\n",
    "- set {\"key1\", \"key2\"} : 수학에서의 집합, 원소들 간에 순서가 없으며, 중복을 허용하지 않음, 예 {1,9,3,0}"
   ]
  },
  {
   "cell_type": "code",
   "execution_count": 4,
   "metadata": {},
   "outputs": [
    {
     "data": {
      "text/plain": [
       "['딸기빙수', '망고빙수', '블루베리빙수']"
      ]
     },
     "execution_count": 4,
     "metadata": {},
     "output_type": "execute_result"
    }
   ],
   "source": [
    "lst = ['딸기빙수','망고빙수','블루베리빙수']\n",
    "lst"
   ]
  },
  {
   "cell_type": "code",
   "execution_count": 5,
   "metadata": {},
   "outputs": [
    {
     "data": {
      "text/plain": [
       "('Gold', 'Silver', 'Bronze')"
      ]
     },
     "execution_count": 5,
     "metadata": {},
     "output_type": "execute_result"
    }
   ],
   "source": [
    "medal = ('Gold', 'Silver', 'Bronze')\n",
    "medal"
   ]
  },
  {
   "cell_type": "code",
   "execution_count": 6,
   "metadata": {},
   "outputs": [
    {
     "data": {
      "text/plain": [
       "{'apple': '사과', 'banana': '바나나'}"
      ]
     },
     "execution_count": 6,
     "metadata": {},
     "output_type": "execute_result"
    }
   ],
   "source": [
    "dic = {'apple':'사과', 'banana':'바나나'}\n",
    "dic"
   ]
  },
  {
   "cell_type": "code",
   "execution_count": null,
   "metadata": {},
   "outputs": [],
   "source": [
    "set_hello = set('hello')\n",
    "set_hello"
   ]
  },
  {
   "cell_type": "code",
   "execution_count": null,
   "metadata": {},
   "outputs": [],
   "source": [
    "fruit = {'apple', 'banana', 'peach','apple'}\n",
    "fruit"
   ]
  },
  {
   "cell_type": "markdown",
   "metadata": {},
   "source": [
    "### 2) 리스트 인덱싱"
   ]
  },
  {
   "cell_type": "markdown",
   "metadata": {},
   "source": [
    "- 리스트[인덱스] : 리스트에 저장된 가 값을 요소라고 한다. 리스트의 요소에 접근할 때 인덱스를 지정함\n",
    "- 리스트에 인덱스를 지정하지 않은 상태는 리스트 전체를 말함\n",
    "- 인덱스는 0부터 시작함\n",
    "- 음수 인덱스는 뒤에서부터 요소를 접근함 (-1은 뒤에서 첫 번째, -3은 뒤에서 세 번째)\n",
    "- 참조 : https://dojang.io/mod/page/view.php?id=969"
   ]
  },
  {
   "cell_type": "code",
   "execution_count": 7,
   "metadata": {},
   "outputs": [
    {
     "name": "stdout",
     "output_type": "stream",
     "text": [
      "1\n",
      "2\n",
      "3\n"
     ]
    }
   ],
   "source": [
    "a=[1,2,3]\n",
    "print(a[0])\n",
    "print(a[1])\n",
    "print(a[-1])"
   ]
  },
  {
   "cell_type": "markdown",
   "metadata": {},
   "source": [
    "### 3) 리스트 슬라이싱"
   ]
  },
  {
   "cell_type": "markdown",
   "metadata": {},
   "source": [
    "- 리스트[시작인덱스:끝인덱스] : 인덱스로 범위를 지정하여 리스트의 일부를 가져옴\n",
    "- 시작인덱스~끝인덱스-1 요소값을 가져온다.\n",
    "- 참조 : https://dojang.io/mod/page/view.php?id=971"
   ]
  },
  {
   "cell_type": "code",
   "execution_count": 8,
   "metadata": {},
   "outputs": [
    {
     "data": {
      "text/plain": [
       "[10, 20, 30, 40]"
      ]
     },
     "execution_count": 8,
     "metadata": {},
     "output_type": "execute_result"
    }
   ],
   "source": [
    "a = [10,20,30,40,50]\n",
    "a[0:4]"
   ]
  },
  {
   "cell_type": "code",
   "execution_count": 9,
   "metadata": {},
   "outputs": [
    {
     "data": {
      "text/plain": [
       "[10, 20]"
      ]
     },
     "execution_count": 9,
     "metadata": {},
     "output_type": "execute_result"
    }
   ],
   "source": [
    "a = [10,20,30,40,50]\n",
    "a[:2]"
   ]
  },
  {
   "cell_type": "code",
   "execution_count": 10,
   "metadata": {},
   "outputs": [
    {
     "data": {
      "text/plain": [
       "[10, 20, 30, 40, 50]"
      ]
     },
     "execution_count": 10,
     "metadata": {},
     "output_type": "execute_result"
    }
   ],
   "source": [
    "a = [10,20,30,40,50]\n",
    "a[:]"
   ]
  },
  {
   "cell_type": "code",
   "execution_count": 11,
   "metadata": {},
   "outputs": [
    {
     "data": {
      "text/plain": [
       "[50, 40, 30, 20, 10]"
      ]
     },
     "execution_count": 11,
     "metadata": {},
     "output_type": "execute_result"
    }
   ],
   "source": [
    "a = [10,20,30,40,50]\n",
    "a[::-1]"
   ]
  },
  {
   "cell_type": "code",
   "execution_count": 12,
   "metadata": {},
   "outputs": [
    {
     "data": {
      "text/plain": [
       "[20, 30]"
      ]
     },
     "execution_count": 12,
     "metadata": {},
     "output_type": "execute_result"
    }
   ],
   "source": [
    "a = [10,20,30,40,50]\n",
    "a[1:3]"
   ]
  },
  {
   "cell_type": "markdown",
   "metadata": {},
   "source": [
    "### ▷ 문제"
   ]
  },
  {
   "cell_type": "markdown",
   "metadata": {},
   "source": [
    "주석에 해당하는 리스트 부분 출력한다."
   ]
  },
  {
   "cell_type": "code",
   "execution_count": null,
   "metadata": {},
   "outputs": [],
   "source": [
    "lst = [10,20,30,40,50,60,70,80,90]\n",
    "\n",
    "# 앞에서부터 4개 리스트를 출력한다. slicing을 이용한다.\n",
    "print(lst[:4])\n",
    "\n",
    "# 뒤에서 4개 리스트를 출력한다.\n",
    "print(lst[-4:])\n",
    "\n",
    "# [30,40,50]을 출력한다.\n",
    "print(lst[2:5])\n",
    "\n",
    "# 마지막 값을 출력한다. 음수 첨자값을 이용한다.\n",
    "print(lst[-1])"
   ]
  },
  {
   "cell_type": "markdown",
   "metadata": {},
   "source": [
    "### 4) 리스트 관련 함수"
   ]
  },
  {
   "cell_type": "markdown",
   "metadata": {},
   "source": [
    "- len(리스트) : 리스트에 들어있는 요소의 개수(길이) 구하기\n",
    "- list.append(요소) : list 끝에 요소를 추가함"
   ]
  },
  {
   "cell_type": "code",
   "execution_count": null,
   "metadata": {},
   "outputs": [],
   "source": [
    "a = [0, 1, 2, 3, 4, 5, 6, 7, 8, 9]\n",
    "len(a)"
   ]
  },
  {
   "cell_type": "code",
   "execution_count": null,
   "metadata": {},
   "outputs": [],
   "source": [
    "a = [0, 1, 2, 3, 4, 5, 6, 7, 8, 9]\n",
    "a.append(10)\n",
    "a"
   ]
  },
  {
   "cell_type": "markdown",
   "metadata": {},
   "source": [
    "### 5) 리스트와 제어문"
   ]
  },
  {
   "cell_type": "code",
   "execution_count": null,
   "metadata": {},
   "outputs": [],
   "source": [
    "list = ['딸기빙수','망고빙수','블루베리빙수']\n",
    "for s in list :\n",
    "    print(s)"
   ]
  },
  {
   "cell_type": "code",
   "execution_count": null,
   "metadata": {},
   "outputs": [],
   "source": [
    "for letter in 'python' :\n",
    "    print(letter)"
   ]
  },
  {
   "cell_type": "markdown",
   "metadata": {},
   "source": [
    "### ▷ 문제"
   ]
  },
  {
   "cell_type": "markdown",
   "metadata": {},
   "source": [
    "리스트의 모든 값을 곱하여 수식과 결과를 출력한다."
   ]
  },
  {
   "cell_type": "raw",
   "metadata": {},
   "source": [
    "<출력 예시>\n",
    "1*2*3*4*5*6*7*8*9=362880"
   ]
  },
  {
   "cell_type": "code",
   "execution_count": null,
   "metadata": {},
   "outputs": [],
   "source": [
    "# for문을 통해 각 아이템 값을 *로 구분하여 출력한다.\n",
    "lst = [1,2,3,4,5,6,7,8,9]\n",
    "result=1\n",
    "\n",
    "for i in lst :\n",
    "    \n",
    "    if(i==lst[-1]) :\n",
    "        print(i, end='=')\n",
    "    else :\n",
    "        print(i, end='*')\n",
    "    result*=i\n",
    "    \n",
    "print(result)"
   ]
  },
  {
   "cell_type": "markdown",
   "metadata": {},
   "source": [
    "## 6. 함수"
   ]
  },
  {
   "cell_type": "code",
   "execution_count": null,
   "metadata": {},
   "outputs": [],
   "source": [
    "def add(a,b):\n",
    "    return a+b\n",
    "x=add(10,20)\n",
    "print(x)"
   ]
  }
 ],
 "metadata": {
  "kernelspec": {
   "display_name": "Python 3",
   "language": "python",
   "name": "python3"
  },
  "language_info": {
   "codemirror_mode": {
    "name": "ipython",
    "version": 3
   },
   "file_extension": ".py",
   "mimetype": "text/x-python",
   "name": "python",
   "nbconvert_exporter": "python",
   "pygments_lexer": "ipython3",
   "version": "3.6.5"
  }
 },
 "nbformat": 4,
 "nbformat_minor": 2
}
